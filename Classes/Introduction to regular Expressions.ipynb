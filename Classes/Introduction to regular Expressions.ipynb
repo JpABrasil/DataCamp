{
 "cells": [
  {
   "cell_type": "markdown",
   "metadata": {},
   "source": [
    "# What is a regular expression or regex?\n",
    "* String containing a combination of normal characters and special metacharacters that describes patterns to frind text or positions within text\n",
    "* Metacharacters represent type of characters (/d,/s,/w) or ideas({3,10})\n",
    "# Pattrern matching usage:\n",
    "* Find and replace text\n",
    "* Validate strings\n",
    "* Very powerful and fast\n",
    "# re module\n",
    "* Find all matches of a pattern : re.findall(r\"regex\",string)\n",
    "* Split a string at each match: re.split(r\"regex\",string)\n",
    "* Replace : re.sub(r\"regex\", new word, string)\n",
    "# Metacharacters:\n",
    "* /d : Digit\n",
    "* /D : Non-Digit\n",
    "* /w : Word \n",
    "* /W : Non-Word\n",
    "* /s : Whitespace\n",
    "* /S : Non-Whtespace"
   ]
  }
 ],
 "metadata": {
  "language_info": {
   "name": "python"
  }
 },
 "nbformat": 4,
 "nbformat_minor": 2
}
