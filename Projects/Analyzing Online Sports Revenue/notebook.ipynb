{
 "cells": [
  {
   "cell_type": "code",
   "execution_count": 1,
   "metadata": {},
   "outputs": [],
   "source": [
    "#imports\n",
    "import pandas as pd"
   ]
  },
  {
   "cell_type": "code",
   "execution_count": 12,
   "metadata": {},
   "outputs": [],
   "source": [
    "#Loading Datasets\n",
    "brands = pd.read_csv(\"Dataset/brands.csv\") \n",
    "finance = pd.read_csv(\"Dataset/finance.csv\")\n",
    "info = pd.read_csv(\"Dataset/info.csv\")\n",
    "reviews = pd.read_csv(\"Dataset/reviews.csv\")"
   ]
  },
  {
   "cell_type": "code",
   "execution_count": null,
   "metadata": {},
   "outputs": [],
   "source": [
    "#Merging and dropping null values\n",
    "merged_df = info.merge(finance, on=\"product_id\")\n",
    "merged_df = merged_df.merge(reviews, on=\"product_id\")\n",
    "merged_df = merged_df.merge(brands, on=\"product_id\")\n",
    "merged_df.dropna(inplace=True)"
   ]
  },
  {
   "cell_type": "code",
   "execution_count": 14,
   "metadata": {},
   "outputs": [],
   "source": [
    "#Add price labels based on listing_prices quartiles\n",
    "merged_df[\"price_label\"] = pd.qcut(merged_df[\"listing_price\"],q=4,labels=[\"Budget\", \"Average\", \"Expensive\", \"Elite\"])"
   ]
  },
  {
   "cell_type": "code",
   "execution_count": 16,
   "metadata": {},
   "outputs": [
    {
     "name": "stdout",
     "output_type": "stream",
     "text": [
      "    brand price_label  num_products  mean_revenue\n",
      "0  Adidas      Budget           574       2015.68\n",
      "1  Adidas     Average           655       3035.30\n",
      "2  Adidas   Expensive           759       4621.56\n",
      "3  Adidas       Elite           587       8302.78\n",
      "4    Nike      Budget           357       1596.33\n",
      "5    Nike     Average             8        675.59\n",
      "6    Nike   Expensive            47        500.56\n",
      "7    Nike       Elite           130       1367.45\n"
     ]
    },
    {
     "name": "stderr",
     "output_type": "stream",
     "text": [
      "C:\\Users\\Pichau\\AppData\\Local\\Temp\\ipykernel_15932\\2056845277.py:2: FutureWarning: The default of observed=False is deprecated and will be changed to True in a future version of pandas. Pass observed=False to retain current behavior or observed=True to adopt the future default and silence this warning.\n",
      "  adidas_vs_nike = merged_df.groupby([\"brand\",\"price_label\"], as_index= False).agg(num_products = (\"price_label\",\"count\"),mean_revenue=(\"revenue\",\"mean\")).round(2)\n"
     ]
    }
   ],
   "source": [
    "#grouping by brand and price label to get volume and mean revenue\n",
    "adidas_vs_nike = merged_df.groupby([\"brand\",\"price_label\"], as_index= False).agg(num_products = (\"price_label\",\"count\"),mean_revenue=(\"revenue\",\"mean\")).round(2)\n",
    "print(adidas_vs_nike)"
   ]
  },
  {
   "cell_type": "code",
   "execution_count": 17,
   "metadata": {},
   "outputs": [],
   "source": [
    "#Store the length of each description\n",
    "merged_df[\"description_length\"] = merged_df[\"description\"].str.len()"
   ]
  },
  {
   "cell_type": "code",
   "execution_count": 20,
   "metadata": {},
   "outputs": [
    {
     "name": "stdout",
     "output_type": "stream",
     "text": [
      "  description_length  mean_rating  num_reviews\n",
      "0                100     2.257143            7\n",
      "1                200     3.185551          526\n",
      "2                300     3.277815         1785\n",
      "3                400     3.285407          651\n",
      "4                500     3.345763          118\n",
      "5                600     3.120000           15\n",
      "6                700     3.653333           15\n"
     ]
    },
    {
     "name": "stderr",
     "output_type": "stream",
     "text": [
      "C:\\Users\\Pichau\\AppData\\Local\\Temp\\ipykernel_15932\\4273540362.py:4: FutureWarning: The default of observed=False is deprecated and will be changed to True in a future version of pandas. Pass observed=False to retain current behavior or observed=True to adopt the future default and silence this warning.\n",
      "  description_lengths = merged_df.groupby(\"description_length\", as_index=False).agg(mean_rating = (\"rating\",\"mean\"),num_reviews=(\"reviews\",\"count\"))\n"
     ]
    }
   ],
   "source": [
    "#Cut into bins\n",
    "merged_df[\"description_length\"] = pd.cut(merged_df[\"description_length\"],bins = [0, 100, 200, 300, 400, 500, 600, 700], labels =[\"100\", \"200\", \"300\", \"400\", \"500\", \"600\", \"700\"])\n",
    "#Groupby the bins\n",
    "description_lengths = merged_df.groupby(\"description_length\", as_index=False).agg(mean_rating = (\"rating\",\"mean\"),num_reviews=(\"reviews\",\"count\"))\n",
    "print(description_lengths)"
   ]
  },
  {
   "cell_type": "code",
   "execution_count": 21,
   "metadata": {},
   "outputs": [
    {
     "name": "stdout",
     "output_type": "stream",
     "text": [
      "   num_clothing_products  median_clothing_revenue  num_footwear_products  \\\n",
      "0                    478                   625.07                   2639   \n",
      "\n",
      "   median_footwear_revenue  \n",
      "0                   3073.3  \n"
     ]
    }
   ],
   "source": [
    "#Now we search for variation in volume of products and mediana revenue between clothing and footwear\n",
    "# List of footwear keywords\n",
    "mylist = \"shoe*|trainer*|foot*\"\n",
    "# Filter for footwear products\n",
    "shoes = merged_df[merged_df[\"description\"].str.contains(mylist)]\n",
    "# Filter for clothing products\n",
    "clothing = merged_df[~merged_df.isin(shoes[\"product_id\"])]\n",
    "# Remove null product_id values from clothing DataFrame\n",
    "clothing.dropna(inplace=True)\n",
    "# Create product_types DataFrame\n",
    "product_types = pd.DataFrame({\"num_clothing_products\": len(clothing), \n",
    "                              \"median_clothing_revenue\": clothing[\"revenue\"].median(), \n",
    "                              \"num_footwear_products\": len(shoes), \n",
    "                              \"median_footwear_revenue\": shoes[\"revenue\"].median()}, \n",
    "                              index=[0])\n",
    "\n",
    "print(product_types)"
   ]
  }
 ],
 "metadata": {
  "kernelspec": {
   "display_name": "Python 3",
   "language": "python",
   "name": "python3"
  },
  "language_info": {
   "codemirror_mode": {
    "name": "ipython",
    "version": 3
   },
   "file_extension": ".py",
   "mimetype": "text/x-python",
   "name": "python",
   "nbconvert_exporter": "python",
   "pygments_lexer": "ipython3",
   "version": "3.11.6"
  }
 },
 "nbformat": 4,
 "nbformat_minor": 2
}
